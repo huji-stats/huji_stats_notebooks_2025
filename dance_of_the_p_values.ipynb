{
  "cells": [
    {
      "cell_type": "markdown",
      "metadata": {},
      "source": [
        "# Dance of the p-values\n",
        "\n",
        "<hr />"
      ]
    },
    {
      "cell_type": "markdown",
      "metadata": {},
      "source": [
        "A researcher is performing a behavioral assay in which she times the amount of time it takes a mouse to traverse a tube and tap a lever to get a sugar pellet. She does this for a wild type mouse, and also for a mouse that is absent a gene for an olfactory receptor. \n",
        "\n",
        "She gets the following results, with all units in seconds."
      ]
    },
    {
      "cell_type": "code",
      "execution_count": 23,
      "metadata": {},
      "outputs": [],
      "source": [
        "import numpy as np\n",
        "\n",
        "wt = np.array([12.1,  9.8, 15.2, 11.5,  7.6,\n",
        "                6.9, 10.9,  8.4, 10.1, 13.2,\n",
        "               10.2, 10.8,  8.0 , 11.3,  9.3,\n",
        "                8.8,  8.9, 10.7, 10.5, 16.6])\n",
        "\n",
        "mut = np.array([ 9.9,  9.2, 11.7, 11.5, 17.6,\n",
        "                17.1,  8.0, 12.3, 12.3, 14.6,\n",
        "                15.2,  5.4, 10.0, 13.0, 13.3,\n",
        "                10.6, 12.2, 14.3, 24.5, 15.4])"
      ]
    },
    {
      "cell_type": "markdown",
      "metadata": {},
      "source": [
        "**a)** Do whatever EDA you think appropriate. (Remember, always start with EDA!)\n",
        "\n",
        "**b)** Compute an estimate for the mean for mutant and wild type. Compute a confidence interval for each. May a display.\n",
        "\n",
        "**c)** Perform a NHST of your choice and report a p-value.\n",
        "\n",
        "**d)** You are momentarily omniscient. Let $x_i^\\mathrm{wt}$ be the measured time it takes for wild type mouse $i$ to complete the task and $x_i^\\mathrm{mut}$ be the measured time it takes for mutant mouse $i$ to complete the task. You know that the true generative distribution is \n",
        "\n",
        "$$\\begin{align}\n",
        "&x_\\mathrm{wt} \\sim \\text{Norm}(10, 3),\\\\[1em]\n",
        "&x_\\mathrm{mut} \\sim \\text{Norm}(13, 4).\n",
        "\\end{align}\n",
        "$$\n",
        "\n",
        "Generate 1000 new data sets from the true generative distribution. That is, do the following 1,000 times: Create an array of 20 wild type values drawn from Norm(10, 3) and an array of 20 mutant values drawn from Norm(13, 4). For each data set, perform the same hypothesis test you did in part (c). Make a plot of all the p-values you get. What do you think about the result?"
      ]
    }
  ],
  "metadata": {
    "kernelspec": {
      "display_name": "Python 3 (ipykernel)",
      "language": "python",
      "name": "python3"
    },
    "language_info": {
      "codemirror_mode": {
        "name": "ipython",
        "version": 3
      },
      "file_extension": ".py",
      "mimetype": "text/x-python",
      "name": "python",
      "nbconvert_exporter": "python",
      "pygments_lexer": "ipython3",
      "version": "3.13.5"
    }
  },
  "nbformat": 4,
  "nbformat_minor": 4
}