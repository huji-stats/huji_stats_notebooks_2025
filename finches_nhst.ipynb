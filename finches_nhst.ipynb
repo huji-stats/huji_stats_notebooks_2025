{
  "cells": [
    {
      "cell_type": "markdown",
      "metadata": {},
      "source": [
        "# NHST with Darwin's finches\n",
        "\n",
        "[Data set download](https://s3.amazonaws.com/bebi103.caltech.edu/data/grant_complete.csv)\n",
        "\n",
        "<hr />"
      ]
    },
    {
      "cell_type": "markdown",
      "metadata": {},
      "source": [
        "In @exr-finches, you worked with finch beak length and depth measurements from Peter and Rosemary Grant. You defined a scalar metric of beak shape and computed confidence intervals. Now, continue your analysis of the finch beak data by performing and null hypothesis significance tests you deem interesting. Remember that when performing an NHST, you should clearly state the null hypothesis, the test statistic, and what it means to be \"at least as extreme.\""
      ]
    }
  ],
  "metadata": {
    "kernelspec": {
      "display_name": "Python 3 (ipykernel)",
      "language": "python",
      "name": "python3"
    },
    "language_info": {
      "codemirror_mode": {
        "name": "ipython",
        "version": 3
      },
      "file_extension": ".py",
      "mimetype": "text/x-python",
      "name": "python",
      "nbconvert_exporter": "python",
      "pygments_lexer": "ipython3",
      "version": "3.13.5"
    }
  },
  "nbformat": 4,
  "nbformat_minor": 4
}